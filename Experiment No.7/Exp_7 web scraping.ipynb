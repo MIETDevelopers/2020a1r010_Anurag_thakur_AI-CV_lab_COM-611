{
 "cells": [
  {
   "cell_type": "code",
   "execution_count": 2,
   "id": "48e4058b",
   "metadata": {},
   "outputs": [],
   "source": [
    "from bs4 import BeautifulSoup\n",
    "import requests"
   ]
  },
  {
   "cell_type": "code",
   "execution_count": 3,
   "id": "3ebf5ead",
   "metadata": {},
   "outputs": [],
   "source": [
    "def get_title(soup):\n",
    "    try:\n",
    "        title = soup.find(\"span\", attrs={\"id\": \"productTitle\"})\n",
    "        title_string = title.get_text(strip=True)\n",
    "    except AttributeError:\n",
    "        title_string = \"\"\n",
    "    return title_string\n"
   ]
  },
  {
   "cell_type": "code",
   "execution_count": 4,
   "id": "765beaee",
   "metadata": {},
   "outputs": [],
   "source": [
    "def get_price(soup):\n",
    "    try:\n",
    "        price = soup.find(\"span\", attrs={\"class\": \"a-offscreen\"})\n",
    "        if price is not None:\n",
    "            prie_string = price.get_text(strip=True)\n",
    "        else:\n",
    "            price_string = \"\"\n",
    "    except AttributeError:\n",
    "            price_string = \"\"\n",
    "    return price_string"
   ]
  },
  {
   "cell_type": "code",
   "execution_count": 5,
   "id": "c8d109ed",
   "metadata": {},
   "outputs": [],
   "source": [
    "def get_rating(soup):\n",
    "    try:\n",
    "        rating = soup.find(\"span\", attrs={\"class\": \"a-icon-alt\"})\n",
    "        if rating is not None:\n",
    "            prie_string = price.get_text(strip=True)\n",
    "        else:\n",
    "            rating_string = \"\"\n",
    "    except AttributeError:\n",
    "            rating_string = \"\"\n",
    "    return rating_string"
   ]
  },
  {
   "cell_type": "code",
   "execution_count": 6,
   "id": "3e58bb2e",
   "metadata": {},
   "outputs": [],
   "source": [
    "def get_review_count(soup):\n",
    "    try:\n",
    "        review_count = soup.find(\"span\", attrs={\"id\": \"acrCustomerReviewText\"})\n",
    "        if review_count is not None:\n",
    "            review_count = review_count.get_text(strip=True)\n",
    "        else:\n",
    "            review_count_string = \"\"\n",
    "    except AttributeError:\n",
    "            review_count_string = \"\"\n",
    "    return review_count_string"
   ]
  },
  {
   "cell_type": "code",
   "execution_count": 7,
   "id": "6d7f6994",
   "metadata": {},
   "outputs": [],
   "source": [
    "def get_availability(soup):\n",
    "    try:\n",
    "        get_availability= soup.find(\"div\", attrs={\"id\": \"availability\"})\n",
    "        if get_availability is not None:\n",
    "            get_availability = availability.get_text(strip=True)\n",
    "        else:\n",
    "            availability_string = \"\"\n",
    "    except AttributeError:\n",
    "        availability_string = \"\"\n",
    "    return availability_string"
   ]
  },
  {
   "cell_type": "code",
   "execution_count": 8,
   "id": "5fad5a61",
   "metadata": {},
   "outputs": [
    {
     "name": "stdout",
     "output_type": "stream",
     "text": [
      "Product Title = \n",
      "Priduct Price = \n",
      "Product Rating = \n",
      "Product Review = \n",
      "Availability = \n"
     ]
    }
   ],
   "source": [
    "if __name__==\"__main__\":\n",
    "    headers = {\n",
    "        \"User-Agent\": \"Mozilla/5.0 (X11; Linux x86_64) AppleWebKit/537.36 (KHTML, like Gecko) Chrome/44.0.2403.157 Safari/537.36\",\n",
    "        \"Accept-Language\": \"en-US, en;q=0.5\"\n",
    "    }\n",
    "    # webpage url\n",
    "    url = \"https://www.amazon.com/Sony-PlayStation-Pro-1TB-Console-4/dp/B07K14XKZH/\"\n",
    "    webpage = requests.get(url, headers=headers)\n",
    "    \n",
    "    soup = BeautifulSoup(webpage.content, \"html.parser\")\n",
    "    \n",
    "    print(\"Product Title =\", get_title(soup))\n",
    "    print(\"Priduct Price =\", get_price(soup))\n",
    "    print(\"Product Rating =\", get_rating(soup))\n",
    "    print(\"Product Review =\", get_review_count(soup))\n",
    "    print(\"Availability =\", get_availability(soup))"
   ]
  },
  {
   "cell_type": "code",
   "execution_count": null,
   "id": "00f6cb6e",
   "metadata": {},
   "outputs": [],
   "source": []
  }
 ],
 "metadata": {
  "kernelspec": {
   "display_name": "Python 3 (ipykernel)",
   "language": "python",
   "name": "python3"
  },
  "language_info": {
   "codemirror_mode": {
    "name": "ipython",
    "version": 3
   },
   "file_extension": ".py",
   "mimetype": "text/x-python",
   "name": "python",
   "nbconvert_exporter": "python",
   "pygments_lexer": "ipython3",
   "version": "3.9.12"
  }
 },
 "nbformat": 4,
 "nbformat_minor": 5
}
