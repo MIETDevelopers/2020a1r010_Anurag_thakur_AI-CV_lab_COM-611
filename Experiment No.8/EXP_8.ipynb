{
 "cells": [
  {
   "cell_type": "code",
   "execution_count": 33,
   "id": "79902c5c",
   "metadata": {},
   "outputs": [],
   "source": [
    "\n",
    "import cv2\n",
    "import numpy as np"
   ]
  },
  {
   "cell_type": "code",
   "execution_count": 1,
   "id": "4c620f1d",
   "metadata": {},
   "outputs": [
    {
     "name": "stdout",
     "output_type": "stream",
     "text": [
      "Defaulting to user installation because normal site-packages is not writeable\n",
      "Collecting opencv-python\n",
      "  Using cached opencv_python-4.7.0.72-cp37-abi3-win_amd64.whl (38.2 MB)\n",
      "Requirement already satisfied: numpy>=1.19.3 in c:\\programdata\\anaconda3\\lib\\site-packages (from opencv-python) (1.21.5)\n",
      "Installing collected packages: opencv-python\n",
      "Successfully installed opencv-python-4.7.0.72\n",
      "Note: you may need to restart the kernel to use updated packages.\n"
     ]
    },
    {
     "name": "stderr",
     "output_type": "stream",
     "text": [
      "WARNING: Retrying (Retry(total=4, connect=None, read=None, redirect=None, status=None)) after connection broken by 'ProtocolError('Connection aborted.', ConnectionResetError(10054, 'An existing connection was forcibly closed by the remote host', None, 10054, None))': /simple/opencv-python/\n"
     ]
    }
   ],
   "source": [
    "pip install opencv-python"
   ]
  },
  {
   "cell_type": "code",
   "execution_count": 34,
   "id": "ac4e2ee3",
   "metadata": {},
   "outputs": [],
   "source": [
    "def convert_to_grayscale(image_path):\n",
    "    image = cv2.imread(image_path)\n",
    "    \n",
    "    grayscale_image = cv2.cvtcolor(image, cv2.COLOR_BGR2GRAY)\n",
    "    \n",
    "    cv2.imshow(\"Original Image\", image)\n",
    "    cv2.imshow(\"Grayscale Image\", grayscale_image)\n",
    "    cv2.waitkey(0)\n",
    "    cv2.destroyALLWindows()"
   ]
  },
  {
   "cell_type": "code",
   "execution_count": 35,
   "id": "a81f8f68",
   "metadata": {},
   "outputs": [],
   "source": [
    "def convert_to_bgr(image_path, output_path):\n",
    "    image = cv2.imread(image_path)\n",
    "    \n",
    "    bgr_image =  cv2.cvtcolor(image, cv2.COLOR_RGB2BGR)\n",
    "    \n",
    "    cv2.imshow(\"Original Image\", image)\n",
    "    cv2.imshow(\"BGR Image\", bgr_image)\n",
    "    cv2.waitkey(0)\n",
    "    cv2.destroyALLWindows()\n",
    "    \n",
    "    cv2.imwrite(output_path, bgr_image)\n",
    "    print(\"BGR image saved as\", output_path)\n",
    "    "
   ]
  },
  {
   "cell_type": "code",
   "execution_count": 36,
   "id": "3bf1e37a",
   "metadata": {},
   "outputs": [],
   "source": [
    "def convert_bgr_to_rgb(output_path):\n",
    "    image_bgr = cv2.imread(output_path)\n",
    "    \n",
    "    image_rgb =  cv2.cvtcolor(image_bgr, cv2.COLOR_BGR2RGB)\n",
    "    \n",
    "    cv2.imshow(\"BGR Image\", image_bgr)\n",
    "    cv2.imshow(\"RGB Image\", image_rgb)\n",
    "    cv2.waitkey(0)\n",
    "    cv2.destroyALLWindows()\n",
    "    \n",
    "    \n",
    "    "
   ]
  },
  {
   "cell_type": "code",
   "execution_count": 37,
   "id": "6df94187",
   "metadata": {},
   "outputs": [],
   "source": [
    "image_path=\"sample.jpg\"\n",
    "output_path =\"\""
   ]
  },
  {
   "cell_type": "code",
   "execution_count": 38,
   "id": "bfba984e",
   "metadata": {},
   "outputs": [
    {
     "ename": "AttributeError",
     "evalue": "module 'cv2' has no attribute 'cvtcolor'",
     "output_type": "error",
     "traceback": [
      "\u001b[1;31m---------------------------------------------------------------------------\u001b[0m",
      "\u001b[1;31mAttributeError\u001b[0m                            Traceback (most recent call last)",
      "Input \u001b[1;32mIn [38]\u001b[0m, in \u001b[0;36m<cell line: 1>\u001b[1;34m()\u001b[0m\n\u001b[1;32m----> 1\u001b[0m \u001b[43mconvert_to_grayscale\u001b[49m\u001b[43m(\u001b[49m\u001b[43mimage_path\u001b[49m\u001b[43m)\u001b[49m\n",
      "Input \u001b[1;32mIn [34]\u001b[0m, in \u001b[0;36mconvert_to_grayscale\u001b[1;34m(image_path)\u001b[0m\n\u001b[0;32m      1\u001b[0m \u001b[38;5;28;01mdef\u001b[39;00m \u001b[38;5;21mconvert_to_grayscale\u001b[39m(image_path):\n\u001b[0;32m      2\u001b[0m     image \u001b[38;5;241m=\u001b[39m cv2\u001b[38;5;241m.\u001b[39mimread(image_path)\n\u001b[1;32m----> 4\u001b[0m     grayscale_image \u001b[38;5;241m=\u001b[39m \u001b[43mcv2\u001b[49m\u001b[38;5;241;43m.\u001b[39;49m\u001b[43mcvtcolor\u001b[49m(image, cv2\u001b[38;5;241m.\u001b[39mCOLOR_BGR2GRAY)\n\u001b[0;32m      6\u001b[0m     cv2\u001b[38;5;241m.\u001b[39mimshow(\u001b[38;5;124m\"\u001b[39m\u001b[38;5;124mOriginal Image\u001b[39m\u001b[38;5;124m\"\u001b[39m, image)\n\u001b[0;32m      7\u001b[0m     cv2\u001b[38;5;241m.\u001b[39mimshow(\u001b[38;5;124m\"\u001b[39m\u001b[38;5;124mGrayscale Image\u001b[39m\u001b[38;5;124m\"\u001b[39m, grayscale_image)\n",
      "\u001b[1;31mAttributeError\u001b[0m: module 'cv2' has no attribute 'cvtcolor'"
     ]
    }
   ],
   "source": [
    "convert_to_grayscale(image_path)"
   ]
  },
  {
   "cell_type": "code",
   "execution_count": 29,
   "id": "ce0cfb44",
   "metadata": {},
   "outputs": [
    {
     "ename": "AttributeError",
     "evalue": "module 'cv2' has no attribute 'cvtcolor'",
     "output_type": "error",
     "traceback": [
      "\u001b[1;31m---------------------------------------------------------------------------\u001b[0m",
      "\u001b[1;31mAttributeError\u001b[0m                            Traceback (most recent call last)",
      "Input \u001b[1;32mIn [29]\u001b[0m, in \u001b[0;36m<cell line: 1>\u001b[1;34m()\u001b[0m\n\u001b[1;32m----> 1\u001b[0m \u001b[43mconvert_to_bgr\u001b[49m\u001b[43m(\u001b[49m\u001b[43mimage_path\u001b[49m\u001b[43m,\u001b[49m\u001b[43m \u001b[49m\u001b[43moutput_path\u001b[49m\u001b[43m)\u001b[49m\n",
      "Input \u001b[1;32mIn [25]\u001b[0m, in \u001b[0;36mconvert_to_bgr\u001b[1;34m(image_path, output_path)\u001b[0m\n\u001b[0;32m      1\u001b[0m \u001b[38;5;28;01mdef\u001b[39;00m \u001b[38;5;21mconvert_to_bgr\u001b[39m(image_path, output_path):\n\u001b[0;32m      2\u001b[0m     image \u001b[38;5;241m=\u001b[39m cv2\u001b[38;5;241m.\u001b[39mimread(image_path)\n\u001b[1;32m----> 4\u001b[0m     bgr_image \u001b[38;5;241m=\u001b[39m  \u001b[43mcv2\u001b[49m\u001b[38;5;241;43m.\u001b[39;49m\u001b[43mcvtcolor\u001b[49m(image, cv2\u001b[38;5;241m.\u001b[39mCOLOR_RGB2BGR)\n\u001b[0;32m      6\u001b[0m     cv2\u001b[38;5;241m.\u001b[39mimshow(\u001b[38;5;124m\"\u001b[39m\u001b[38;5;124mOriginal Image\u001b[39m\u001b[38;5;124m\"\u001b[39m, image)\n\u001b[0;32m      7\u001b[0m     cv2\u001b[38;5;241m.\u001b[39mimshow(\u001b[38;5;124m\"\u001b[39m\u001b[38;5;124mBGR Image\u001b[39m\u001b[38;5;124m\"\u001b[39m, bgr_image)\n",
      "\u001b[1;31mAttributeError\u001b[0m: module 'cv2' has no attribute 'cvtcolor'"
     ]
    }
   ],
   "source": [
    "convert_to_bgr(image_path, output_path)"
   ]
  },
  {
   "cell_type": "code",
   "execution_count": 39,
   "id": "e4de3fe8",
   "metadata": {},
   "outputs": [
    {
     "ename": "NameError",
     "evalue": "name 'convert_bgr_rgb' is not defined",
     "output_type": "error",
     "traceback": [
      "\u001b[1;31m---------------------------------------------------------------------------\u001b[0m",
      "\u001b[1;31mNameError\u001b[0m                                 Traceback (most recent call last)",
      "Input \u001b[1;32mIn [39]\u001b[0m, in \u001b[0;36m<cell line: 1>\u001b[1;34m()\u001b[0m\n\u001b[1;32m----> 1\u001b[0m \u001b[43mconvert_bgr_rgb\u001b[49m(output_path)\n",
      "\u001b[1;31mNameError\u001b[0m: name 'convert_bgr_rgb' is not defined"
     ]
    }
   ],
   "source": [
    "convert_bgr_rgb(output_path)"
   ]
  },
  {
   "cell_type": "code",
   "execution_count": 40,
   "id": "f66cf9a2",
   "metadata": {},
   "outputs": [],
   "source": [
    "def create_white_image(width, height):\n",
    "    white_image = np.ones((height, width, 3), dtype=np.unit8) * 255\n",
    "    \n",
    "    cv2.inshow(\"White Image\", white_image)\n",
    "    cv2.waitkey(0)\n",
    "    cv2.destroyALLWindows"
   ]
  },
  {
   "cell_type": "code",
   "execution_count": 45,
   "id": "f408db5c",
   "metadata": {},
   "outputs": [],
   "source": [
    "def create_black_image(width, height):\n",
    "    black_image = np.ones((height, width, 3), dtype=np.uint8) * 255\n",
    "    \n",
    "    cv2.inshow(\"Black Image\", black_image)\n",
    "    cv2.waitkey(0)\n",
    "    cv2.destroyALLWindows"
   ]
  },
  {
   "cell_type": "code",
   "execution_count": 46,
   "id": "5e96c95b",
   "metadata": {},
   "outputs": [],
   "source": [
    "def draw_shapes_on_image(image_path):\n",
    "    image = cv2.imread(image_path)\n",
    "    \n",
    "    cv2.rectangle(image, (50, 50), (200, 200),(0, 255, 0), 2)\n",
    "    \n",
    "    cv2.circle(image, (300, 150), 100, (0, 0, 255), 2)\n",
    "    \n",
    "    cv2.line(image, (400,50), (400, 250), (255, 0, 0), 2)\n",
    "    \n",
    "    cv2.imshow(\"Image with Shapes\", image)\n",
    "    cv2.waitkey(0)\n",
    "    cv2.destroyALLWindows()"
   ]
  },
  {
   "cell_type": "code",
   "execution_count": 49,
   "id": "5be7cc61",
   "metadata": {},
   "outputs": [],
   "source": [
    "width, height = 800, 600"
   ]
  },
  {
   "cell_type": "code",
   "execution_count": 50,
   "id": "ba88688c",
   "metadata": {},
   "outputs": [
    {
     "ename": "AttributeError",
     "evalue": "module 'numpy' has no attribute 'unit8'",
     "output_type": "error",
     "traceback": [
      "\u001b[1;31m---------------------------------------------------------------------------\u001b[0m",
      "\u001b[1;31mAttributeError\u001b[0m                            Traceback (most recent call last)",
      "Input \u001b[1;32mIn [50]\u001b[0m, in \u001b[0;36m<cell line: 1>\u001b[1;34m()\u001b[0m\n\u001b[1;32m----> 1\u001b[0m \u001b[43mcreate_white_image\u001b[49m\u001b[43m(\u001b[49m\u001b[43mwidth\u001b[49m\u001b[43m,\u001b[49m\u001b[43m \u001b[49m\u001b[43mheight\u001b[49m\u001b[43m)\u001b[49m\n",
      "Input \u001b[1;32mIn [40]\u001b[0m, in \u001b[0;36mcreate_white_image\u001b[1;34m(width, height)\u001b[0m\n\u001b[0;32m      1\u001b[0m \u001b[38;5;28;01mdef\u001b[39;00m \u001b[38;5;21mcreate_white_image\u001b[39m(width, height):\n\u001b[1;32m----> 2\u001b[0m     white_image \u001b[38;5;241m=\u001b[39m np\u001b[38;5;241m.\u001b[39mones((height, width, \u001b[38;5;241m3\u001b[39m), dtype\u001b[38;5;241m=\u001b[39m\u001b[43mnp\u001b[49m\u001b[38;5;241;43m.\u001b[39;49m\u001b[43munit8\u001b[49m) \u001b[38;5;241m*\u001b[39m \u001b[38;5;241m255\u001b[39m\n\u001b[0;32m      4\u001b[0m     cv2\u001b[38;5;241m.\u001b[39minshow(\u001b[38;5;124m\"\u001b[39m\u001b[38;5;124mWhite Image\u001b[39m\u001b[38;5;124m\"\u001b[39m, white_image)\n\u001b[0;32m      5\u001b[0m     cv2\u001b[38;5;241m.\u001b[39mwaitkey(\u001b[38;5;241m0\u001b[39m)\n",
      "File \u001b[1;32mC:\\ProgramData\\Anaconda3\\lib\\site-packages\\numpy\\__init__.py:313\u001b[0m, in \u001b[0;36m__getattr__\u001b[1;34m(attr)\u001b[0m\n\u001b[0;32m    310\u001b[0m     \u001b[38;5;28;01mfrom\u001b[39;00m \u001b[38;5;21;01m.\u001b[39;00m\u001b[38;5;21;01mtesting\u001b[39;00m \u001b[38;5;28;01mimport\u001b[39;00m Tester\n\u001b[0;32m    311\u001b[0m     \u001b[38;5;28;01mreturn\u001b[39;00m Tester\n\u001b[1;32m--> 313\u001b[0m \u001b[38;5;28;01mraise\u001b[39;00m \u001b[38;5;167;01mAttributeError\u001b[39;00m(\u001b[38;5;124m\"\u001b[39m\u001b[38;5;124mmodule \u001b[39m\u001b[38;5;132;01m{!r}\u001b[39;00m\u001b[38;5;124m has no attribute \u001b[39m\u001b[38;5;124m\"\u001b[39m\n\u001b[0;32m    314\u001b[0m                      \u001b[38;5;124m\"\u001b[39m\u001b[38;5;132;01m{!r}\u001b[39;00m\u001b[38;5;124m\"\u001b[39m\u001b[38;5;241m.\u001b[39mformat(\u001b[38;5;18m__name__\u001b[39m, attr))\n",
      "\u001b[1;31mAttributeError\u001b[0m: module 'numpy' has no attribute 'unit8'"
     ]
    }
   ],
   "source": [
    "create_white_image(width, height)"
   ]
  },
  {
   "cell_type": "code",
   "execution_count": null,
   "id": "8957493f",
   "metadata": {},
   "outputs": [],
   "source": []
  },
  {
   "cell_type": "code",
   "execution_count": null,
   "id": "082a0a2e",
   "metadata": {},
   "outputs": [],
   "source": []
  }
 ],
 "metadata": {
  "kernelspec": {
   "display_name": "Python 3 (ipykernel)",
   "language": "python",
   "name": "python3"
  },
  "language_info": {
   "codemirror_mode": {
    "name": "ipython",
    "version": 3
   },
   "file_extension": ".py",
   "mimetype": "text/x-python",
   "name": "python",
   "nbconvert_exporter": "python",
   "pygments_lexer": "ipython3",
   "version": "3.9.12"
  }
 },
 "nbformat": 4,
 "nbformat_minor": 5
}
